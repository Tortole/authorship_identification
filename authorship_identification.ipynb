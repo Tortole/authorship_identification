{
  "cells": [
    {
      "cell_type": "markdown",
      "metadata": {
        "id": "JP9Ba-l9Bc6V"
      },
      "source": [
        "## Импорт библиотек"
      ]
    },
    {
      "cell_type": "markdown",
      "metadata": {
        "id": "KzDhU6tahdAe"
      },
      "source": [
        "Установка библиотеки для чтения epub файлов"
      ]
    },
    {
      "cell_type": "code",
      "execution_count": 2,
      "metadata": {
        "colab": {
          "base_uri": "https://localhost:8080/"
        },
        "id": "sJFMuFwNB71G",
        "outputId": "8a2b6604-51b9-48c6-e0b7-c1b100f8346b"
      },
      "outputs": [
        {
          "name": "stdout",
          "output_type": "stream",
          "text": [
            "Requirement already satisfied: ebooklib in /usr/local/lib/python3.7/dist-packages (0.17.1)\n",
            "Requirement already satisfied: six in /usr/local/lib/python3.7/dist-packages (from ebooklib) (1.15.0)\n",
            "Requirement already satisfied: lxml in /usr/local/lib/python3.7/dist-packages (from ebooklib) (4.2.6)\n"
          ]
        }
      ],
      "source": [
        "!pip install ebooklib"
      ]
    },
    {
      "cell_type": "code",
      "execution_count": 3,
      "metadata": {
        "id": "Iw3iQl0CBbXm"
      },
      "outputs": [],
      "source": [
        "import re\n",
        "import numpy as np\n",
        "import pandas as pd\n",
        "import matplotlib.pyplot as plt\n",
        "\n",
        "import os\n",
        "import ebooklib\n",
        "from ebooklib import epub\n",
        "from bs4 import BeautifulSoup\n",
        "from sklearn.model_selection import train_test_split\n",
        "\n",
        "import nltk\n",
        "from nltk.corpus import stopwords\n",
        "from nltk.tokenize import RegexpTokenizer\n",
        "\n",
        "from tensorflow.keras.preprocessing.text import Tokenizer\n",
        "from tensorflow.keras.utils import to_categorical\n",
        "\n",
        "from tensorflow.keras.models import Sequential\n",
        "from tensorflow.keras.layers import Dense, Dropout, BatchNormalization, Activation\n",
        "from tensorflow.keras.optimizers import Adam\n",
        "\n",
        "random_seed = 42"
      ]
    },
    {
      "cell_type": "markdown",
      "metadata": {
        "id": "ZT_hYViTBjZc"
      },
      "source": [
        "## Загрузка и чтение текстов"
      ]
    },
    {
      "cell_type": "markdown",
      "metadata": {
        "id": "HfVXY_LYnK8t"
      },
      "source": [
        "Скачиваем тексты для обучения с репозитория github"
      ]
    },
    {
      "cell_type": "code",
      "execution_count": 4,
      "metadata": {
        "id": "itopnuE-BxR_"
      },
      "outputs": [],
      "source": [
        "if not os.path.isdir('writers'):\n",
        "  !wget https://github.com/Tortole/authorship_identification/raw/main/writers.zip\n",
        "  !unzip writers.zip"
      ]
    },
    {
      "cell_type": "markdown",
      "metadata": {
        "id": "eEEWJ6mSnXqd"
      },
      "source": [
        "Методы для чтения и обработки формата epub"
      ]
    },
    {
      "cell_type": "code",
      "execution_count": 5,
      "metadata": {
        "id": "9t3Xqith6xLa"
      },
      "outputs": [],
      "source": [
        "# Извлекает содержание epub файла в виде html\n",
        "def epub_to_html(epub_path):\n",
        "  book = epub.read_epub(epub_path)\n",
        "  htmls = []\n",
        "  for item in book.get_items():\n",
        "    if item.get_type() == ebooklib.ITEM_DOCUMENT:\n",
        "      htmls.append(item.get_content())\n",
        "  return htmls\n",
        "\n",
        "# Извлекает текст из html\n",
        "blacklist = ['[document]', 'noscript', 'header', 'html', 'meta', 'head','input', 'script']\n",
        "def html_to_text(html_text):\n",
        "  result_text = ''\n",
        "  soup = BeautifulSoup(html_text, 'html.parser')\n",
        "  text = soup.find_all(text=True)\n",
        "  for t in text:\n",
        "    if t.parent.name not in blacklist:\n",
        "      result_text += '{} '.format(t)\n",
        "  return result_text\n",
        "\n",
        "\n",
        "# Извлекает из epub файла текст\n",
        "def epub_to_text(epub_path):\n",
        "  html = epub_to_html(epub_path)\n",
        "  text = [html_to_text(h) for h in html]\n",
        "  return text"
      ]
    },
    {
      "cell_type": "markdown",
      "metadata": {
        "id": "4xxZnCDEqQDT"
      },
      "source": [
        "Чтение и обработка epub файлов"
      ]
    },
    {
      "cell_type": "code",
      "execution_count": 6,
      "metadata": {
        "id": "NfsHTDjWa_uN"
      },
      "outputs": [],
      "source": [
        "main_folder = 'writers'\n",
        "authors_texts = {}\n",
        "\n",
        "for folder in os.listdir(main_folder):\n",
        "  folder_path = os.path.join(main_folder, folder)\n",
        "  texts = []\n",
        "  for file in os.listdir(folder_path):\n",
        "    file_path = os.path.join(folder_path, file)\n",
        "    text = epub_to_text(file_path)\n",
        "    texts.append(' '.join(text))\n",
        "  authors_texts[folder] = texts"
      ]
    },
    {
      "cell_type": "markdown",
      "metadata": {
        "id": "HR4bU8cY-3Fa"
      },
      "source": [
        "Удаляем фамилии авторов из текстов"
      ]
    },
    {
      "cell_type": "code",
      "execution_count": 8,
      "metadata": {
        "id": "g8S57FilJBD2"
      },
      "outputs": [],
      "source": [
        "author_names_reg = {\n",
        "    'pushkin': r'Пушкин\\w{0,2}',\n",
        "    'gogol': r'Гогол\\w{0,2}',\n",
        "    'dostoevsky': r'Достоевск\\w{1,3}',\n",
        "    'tolstoy': r'Толст\\w{1,3}',\n",
        "    'turgenev': r'Тургенев\\w{0,2}',\n",
        "}\n",
        "\n",
        "for author in authors_texts:\n",
        "  authors_texts[author] = [re.sub(author_names_reg[author], ' ', text) for text in authors_texts[author]]"
      ]
    },
    {
      "cell_type": "markdown",
      "metadata": {
        "id": "bmlfiHlTicGO"
      },
      "source": [
        "Разбиваем тексты на обучающую и тестовую выборки"
      ]
    },
    {
      "cell_type": "code",
      "execution_count": 9,
      "metadata": {
        "id": "0-PQHr6WlrsX"
      },
      "outputs": [],
      "source": [
        "train_texts = []\n",
        "test_texts = []\n",
        "authors = []\n",
        "\n",
        "for author in authors_texts:\n",
        "  authors.append(author)\n",
        "  train, test = train_test_split(authors_texts[author], random_state=random_seed)\n",
        "  train_texts.append(train)\n",
        "  test_texts.append(test)"
      ]
    },
    {
      "cell_type": "markdown",
      "metadata": {
        "id": "SxbHTuhZBqoS"
      },
      "source": [
        "## Обработка текстов"
      ]
    },
    {
      "cell_type": "markdown",
      "metadata": {
        "id": "KbgnDtYQyQj3"
      },
      "source": [
        "Методы для очистки текста.\n",
        "\n",
        "Пропускаем текст через токенайзер nltk, избавляясь от любых символов, кроме букв и чисел, дополнительно убираем стоп-слова, объединяем разделённые слова снова в цельные тексты."
      ]
    },
    {
      "cell_type": "code",
      "execution_count": 10,
      "metadata": {
        "colab": {
          "base_uri": "https://localhost:8080/"
        },
        "id": "VYhSycYwCa8h",
        "outputId": "e9c629f7-f9f3-4a52-f6d9-b1405454996c"
      },
      "outputs": [
        {
          "name": "stdout",
          "output_type": "stream",
          "text": [
            "[nltk_data] Downloading package stopwords to /root/nltk_data...\n",
            "[nltk_data]   Package stopwords is already up-to-date!\n"
          ]
        }
      ],
      "source": [
        "nltk.download('stopwords')\n",
        "stop_words = set(stopwords.words('russian'))\n",
        "\n",
        "\n",
        "# Очистка текста от знаков препинания, спецсимволов и (опционально) стоп-слов c помощью библиотеки nltk\n",
        "def nltk_cleaner(text, remove_stop_words=True):\n",
        "  tokenizer_nltk = RegexpTokenizer(r'[0-9а-яА-Яa-zA-Z]+')\n",
        "  clear_words = tokenizer_nltk.tokenize(text)\n",
        "  if remove_stop_words:\n",
        "    clear_words = [w for w in clear_words if w.lower() not in stop_words]\n",
        "  return ' '.join(clear_words)\n",
        "\n",
        "\n",
        "def clean_texts(texts):\n",
        "  clean_texts = []\n",
        "  for author_texts in train_texts:\n",
        "    cleans = [nltk_cleaner(t) for t in author_texts]\n",
        "    clean_texts.append(cleans)\n",
        "  return clean_texts"
      ]
    },
    {
      "cell_type": "markdown",
      "metadata": {
        "id": "ZO66IgW5yZ8o"
      },
      "source": [
        "Токенезация с помощью keras"
      ]
    },
    {
      "cell_type": "code",
      "execution_count": 11,
      "metadata": {
        "id": "-wUHgDBQ_7p5"
      },
      "outputs": [],
      "source": [
        "train_texts_clean = clean_texts(train_texts)\n",
        "\n",
        "# Максимальное количество слов, которые учитывает токенайзер\n",
        "max_words_counts = 30000\n",
        "\n",
        "tokenizer_keras = Tokenizer(num_words=max_words_counts)\n",
        "for t in train_texts_clean:\n",
        "  tokenizer_keras.fit_on_texts(t)"
      ]
    },
    {
      "cell_type": "markdown",
      "metadata": {
        "id": "MOXJfIl1G9vr"
      },
      "source": [
        "Отбрасываем слова, встречающиеся менее count_border количества раз.\n",
        "\n",
        "Редко используемые слова могут встречаться только у одного автора и сопоставляться только с ним, поэтому если при распознании они встретятся в тексте у другого автора, то программа может выдать второго за первого."
      ]
    },
    {
      "cell_type": "code",
      "execution_count": 12,
      "metadata": {
        "id": "6IgdgdX4Dq5y"
      },
      "outputs": [],
      "source": [
        "count_border = 2\n",
        "low_count_words = [w for w, c in tokenizer_keras.word_counts.items() if c < count_border]\n",
        "for w in low_count_words:\n",
        "  del tokenizer_keras.word_index[w]\n",
        "  del tokenizer_keras.word_counts[w]\n",
        "  del tokenizer_keras.word_docs[w]"
      ]
    },
    {
      "cell_type": "markdown",
      "metadata": {
        "id": "uLUvM1SUHDWC"
      },
      "source": [
        "Переводим тексты в спискок индексов."
      ]
    },
    {
      "cell_type": "code",
      "execution_count": 13,
      "metadata": {
        "id": "WP-aoxqIDvxe"
      },
      "outputs": [],
      "source": [
        "train_sequences = [tokenizer_keras.texts_to_sequences(t) for t in train_texts]\n",
        "test_sequences = [tokenizer_keras.texts_to_sequences(t) for t in test_texts]"
      ]
    },
    {
      "cell_type": "markdown",
      "metadata": {
        "id": "ti5UKRoRBwk1"
      },
      "source": [
        "## Подготовка текстов"
      ]
    },
    {
      "cell_type": "markdown",
      "metadata": {
        "id": "2Ojuj3x01i55"
      },
      "source": [
        "Увеличиваем объём выборок.\n",
        "\n",
        "Делается это так: берём текст, отрезок длины seg_len и сдвиг shift, от начала текста отсчитываем отрезок и выбираем попавшие в него слова (первые seg_len слов), после сдвигаемся на shift слов вперёд, также отсчитываем отрезок и выбираем попавшие в него слова, повторяем процедуру до тех пор, пока отрезок не начнёт выходить за границы текста. Тем самым размер выборок увеличился, а качество обучение не пострадает."
      ]
    },
    {
      "cell_type": "code",
      "execution_count": 14,
      "metadata": {
        "id": "zjBCyieBWyLi"
      },
      "outputs": [],
      "source": [
        "def shift_window(text, seg_len, shift):\n",
        "  words_len = len(text)\n",
        "  if words_len <= seg_len:\n",
        "    return [text + ([0] * (seg_len - words_len))]\n",
        "  shift_texts = []\n",
        "  index = 0\n",
        "  while index + seg_len <= words_len:\n",
        "    shift_texts.append(text[index:index+seg_len])\n",
        "    index += shift\n",
        "  return shift_texts\n",
        "\n",
        "\n",
        "def create_samples(authors_texts, seg_len, shift):\n",
        "  сlasses_count = len(authors_texts)\n",
        "  x_samples = []\n",
        "  y_samples = []\n",
        "  for i, texts in enumerate(authors_texts):\n",
        "    for t in texts:\n",
        "      shift_lists = shift_window(t, seg_len, shift)\n",
        "      x_samples += shift_lists\n",
        "      y_samples += [to_categorical(i, сlasses_count).tolist()] * len(shift_lists)\n",
        "  return (np.array(x_samples), np.array(y_samples))"
      ]
    },
    {
      "cell_type": "code",
      "execution_count": 15,
      "metadata": {
        "colab": {
          "base_uri": "https://localhost:8080/"
        },
        "id": "Ue8uhfgwVOeV",
        "outputId": "f4c08406-5ac5-45b3-a02a-f2588f9484cd"
      },
      "outputs": [
        {
          "name": "stdout",
          "output_type": "stream",
          "text": [
            "Тексты x_train:\n",
            "[[ 1560   298  3396 ...  1625   264    92]\n",
            " [  253   648  3209 ...  2877   218  2221]\n",
            " [ 3665   950  3056 ...  4269   956  4491]\n",
            " ...\n",
            " [   28   488    67 ...  1017 28064  3259]\n",
            " [  178  1138  5223 ... 12841  3367 10338]\n",
            " [ 3135   251 23723 ...  1249 15343 21123]]\n",
            "\n",
            "Метки авторов y_train:\n",
            "[[1. 0. 0. 0. 0.]\n",
            " [1. 0. 0. 0. 0.]\n",
            " [1. 0. 0. 0. 0.]\n",
            " ...\n",
            " [0. 0. 0. 0. 1.]\n",
            " [0. 0. 0. 0. 1.]\n",
            " [0. 0. 0. 0. 1.]]\n"
          ]
        }
      ],
      "source": [
        "seg_len = 1000\n",
        "shift = 50\n",
        "x_train, y_train = create_samples(train_sequences, seg_len, shift)\n",
        "x_test, y_test = create_samples(test_sequences, seg_len, shift)\n",
        "\n",
        "print('Тексты x_train:')\n",
        "print(x_train)\n",
        "print()\n",
        "print('Метки авторов y_train:')\n",
        "print(y_train)"
      ]
    },
    {
      "cell_type": "markdown",
      "metadata": {
        "id": "JZkMtx6Jz3EV"
      },
      "source": [
        "Создание bag of words (мешок слов) из текстов"
      ]
    },
    {
      "cell_type": "code",
      "execution_count": 16,
      "metadata": {
        "id": "IKVxgzWrVYLn"
      },
      "outputs": [],
      "source": [
        "x_train_bag_of_words = tokenizer_keras.sequences_to_matrix(x_train.tolist())\n",
        "x_test_bag_of_words = tokenizer_keras.sequences_to_matrix(x_test.tolist())"
      ]
    },
    {
      "cell_type": "markdown",
      "metadata": {
        "id": "YCIw-u2MWxat"
      },
      "source": [
        "## Обучение"
      ]
    },
    {
      "cell_type": "code",
      "execution_count": 17,
      "metadata": {
        "colab": {
          "base_uri": "https://localhost:8080/",
          "height": 909
        },
        "id": "3meQ68KCWyjy",
        "outputId": "a0dece28-9c12-4647-b3b9-abbe6a0053e1"
      },
      "outputs": [
        {
          "name": "stdout",
          "output_type": "stream",
          "text": [
            "Epoch 1/15\n",
            "633/633 [==============================] - 32s 48ms/step - loss: 0.1082 - accuracy: 0.9805 - val_loss: 0.1235 - val_accuracy: 0.9497\n",
            "Epoch 2/15\n",
            "633/633 [==============================] - 24s 38ms/step - loss: 0.0186 - accuracy: 0.9968 - val_loss: 0.1509 - val_accuracy: 0.9407\n",
            "Epoch 3/15\n",
            "633/633 [==============================] - 25s 40ms/step - loss: 0.0138 - accuracy: 0.9970 - val_loss: 0.1268 - val_accuracy: 0.9516\n",
            "Epoch 4/15\n",
            "633/633 [==============================] - 27s 42ms/step - loss: 0.0105 - accuracy: 0.9975 - val_loss: 0.0868 - val_accuracy: 0.9552\n",
            "Epoch 5/15\n",
            "633/633 [==============================] - 25s 39ms/step - loss: 0.0080 - accuracy: 0.9980 - val_loss: 0.0825 - val_accuracy: 0.9631\n",
            "Epoch 6/15\n",
            "633/633 [==============================] - 24s 38ms/step - loss: 0.0075 - accuracy: 0.9982 - val_loss: 0.0666 - val_accuracy: 0.9680\n",
            "Epoch 7/15\n",
            "633/633 [==============================] - 20s 32ms/step - loss: 0.0067 - accuracy: 0.9981 - val_loss: 0.0507 - val_accuracy: 0.9779\n",
            "Epoch 8/15\n",
            "633/633 [==============================] - 25s 39ms/step - loss: 0.0087 - accuracy: 0.9971 - val_loss: 0.0786 - val_accuracy: 0.9639\n",
            "Epoch 9/15\n",
            "633/633 [==============================] - 20s 31ms/step - loss: 0.0084 - accuracy: 0.9977 - val_loss: 0.1104 - val_accuracy: 0.9577\n",
            "Epoch 10/15\n",
            "633/633 [==============================] - 20s 31ms/step - loss: 0.0079 - accuracy: 0.9974 - val_loss: 0.0843 - val_accuracy: 0.9639\n",
            "Epoch 11/15\n",
            "633/633 [==============================] - 20s 31ms/step - loss: 0.0071 - accuracy: 0.9978 - val_loss: 0.1113 - val_accuracy: 0.9582\n",
            "Epoch 12/15\n",
            "633/633 [==============================] - 20s 31ms/step - loss: 0.0061 - accuracy: 0.9984 - val_loss: 0.0976 - val_accuracy: 0.9642\n",
            "Epoch 13/15\n",
            "633/633 [==============================] - 20s 32ms/step - loss: 0.0058 - accuracy: 0.9986 - val_loss: 0.1121 - val_accuracy: 0.9626\n",
            "Epoch 14/15\n",
            "633/633 [==============================] - 21s 34ms/step - loss: 0.0058 - accuracy: 0.9985 - val_loss: 0.1598 - val_accuracy: 0.9541\n",
            "Epoch 15/15\n",
            "633/633 [==============================] - 20s 32ms/step - loss: 0.0063 - accuracy: 0.9981 - val_loss: 0.2189 - val_accuracy: 0.9527\n"
          ]
        },
        {
          "data": {
            "image/png": "[encoded data removed]",
            "text/plain": [
              "<Figure size 720x432 with 1 Axes>"
            ]
          },
          "metadata": {
            "needs_background": "light"
          },
          "output_type": "display_data"
        }
      ],
      "source": [
        "model = Sequential()\n",
        "model.add(BatchNormalization())\n",
        "model.add(Dense(30, input_dim=max_words_counts, activation='relu'))\n",
        "model.add(Dropout(0.4))\n",
        "model.add(BatchNormalization())\n",
        "model.add(Dense(len(authors), activation='sigmoid'))\n",
        "\n",
        "model.compile(optimizer='adam', \n",
        "              loss='categorical_crossentropy', \n",
        "              metrics=['accuracy'])\n",
        "\n",
        "history = model.fit(x_train_bag_of_words, \n",
        "                    y_train, \n",
        "                    epochs=15,\n",
        "                    validation_data=(x_test_bag_of_words, y_test))\n",
        "\n",
        "plt.figure(figsize=(10, 6))\n",
        "plt.plot(history.history['accuracy'], label='Обучающая выборка')\n",
        "plt.plot(history.history['val_accuracy'], label='Тестовая выборка')\n",
        "plt.xlabel('Эпоха')\n",
        "plt.ylabel('Доля верных ответов')\n",
        "plt.legend()\n",
        "plt.show()"
      ]
    },
    {
      "cell_type": "markdown",
      "metadata": {
        "id": "dPtbEXlRWxjB"
      },
      "source": [
        "## Распознование"
      ]
    },
    {
      "cell_type": "markdown",
      "metadata": {
        "id": "UzyTJDWS51Yu"
      },
      "source": [
        "В качестве примера для распознования возьмём текст из тестовой выборки."
      ]
    },
    {
      "cell_type": "code",
      "execution_count": 19,
      "metadata": {
        "colab": {
          "base_uri": "https://localhost:8080/"
        },
        "id": "wBVQlm5LzQio",
        "outputId": "4b3628f8-0cf4-49e2-eac4-41ac4a2296ca"
      },
      "outputs": [
        {
          "name": "stdout",
          "output_type": "stream",
          "text": [
            "Предсказания сети для каждого блока текста:\n",
            " [[1.0000000e+00 2.8836727e-04 3.1376749e-02 5.0072438e-01 3.0501306e-02]\n",
            " [1.0000000e+00 1.0000169e-03 5.6758940e-02 6.0056239e-01 1.8250048e-02]\n",
            " [1.0000000e+00 1.4494061e-03 2.4859905e-02 6.8860948e-01 2.7606398e-02]\n",
            " ...\n",
            " [9.9991107e-01 8.4583163e-03 9.4672751e-01 4.1812658e-03 2.7844590e-01]\n",
            " [9.9997556e-01 1.5550643e-02 8.0540615e-01 2.5417209e-03 3.4390765e-01]\n",
            " [9.9998438e-01 4.1134953e-03 6.6211236e-01 3.7589073e-03 4.7904593e-01]]\n",
            "\n",
            "Номера автора для каждого блока текста:\n",
            " [0 0 0 0 0 0 0 0 0 0 0 0 0 0 0 0 0 0 0 0 0 0 0 0 0 0 0 0 0 0 0 0 0 0 0 0 0\n",
            " 0 0 0 0 0 0 0 0 0 0 0 0 0 0 0 0 0 0 0 0 0 0 0 0 0 0 0 0 0 0 0 0 0 0 0 0 0\n",
            " 0 0 0 0 0 0 0 0 0 0 0 0 0 0 0 0 0 0 0 0 0 0 0 0 0 0 0 0 0 0 0 0 0 0 0 0 0\n",
            " 0 0 0 0 0 0 0 0 0 0 0 0 0 0 0 0 0 0 0 0 0 0 0 0 0 0 0 0 0 0 0 0 0 0 0 0 0\n",
            " 0 0 0 0 0 0 0 0 0 0 0 0 0 0 0 0 0 0 0 0 0 0 0 0 0 0 0 0 0 0 0 0 0 0 0 0 0\n",
            " 0 0 0 0 0 0 0 0 0 0 0 0 0 0 0 0 0 0 0 0 0 0 0 0 0 0 0 0 0 0 0 0 0 0 0 0 0\n",
            " 0 0 0 0 0 0 0 0 0 0 0 0 0 0 0 0 0 0 0 0 0 0 0 0 0 0 0 0 0 0 0 0 0 0 0 0 0\n",
            " 0 0 0 0 0 0 0 0 0 0 0 0 0 0 0 0 0 0 0 0 0 0 0 0 0 0 0 0 0 0 0 0 0 0 0 0 0\n",
            " 0 0 0 0 0 0 0 0 0 0 0 0 0 0 0 0 0 0 0 0 0 0 0 0 0 0 0 0 0 0 0]\n",
            "\n",
            "Вероятности принадлежности текста разным авторам:\n",
            " [1.0, 0.0, 0.0, 0.0, 0.0]\n",
            "\n",
            "Текст написан автором turgenev с вероятностью 1.0\n"
          ]
        }
      ],
      "source": [
        "# Для загрузки произвольного текста\n",
        "# recognition_text = ' '.join(epub_to_text('path_to_epub_file'))\n",
        "\n",
        "recognition_text = test_texts[0][1]\n",
        "\n",
        "# Обработка текста\n",
        "# Токенизация\n",
        "recognition_text_indexes = tokenizer_keras.texts_to_sequences([recognition_text])[0]\n",
        "# Для подачи текста на вход сети нужно довести (растянуть или урезать) \n",
        "# его длину до одного размера, то есть выполнить pad sequences\n",
        "# Для этого используем функцию shift_window и составим блоки одного размера\n",
        "recognition_sample = shift_window(recognition_text_indexes, seg_len, shift)\n",
        "# Составление мешка слов из текста для распознования\n",
        "recognition_bag_of_words = tokenizer_keras.sequences_to_matrix(recognition_sample)\n",
        "\n",
        "# Само распознование\n",
        "# Модель распознаёт авторство не всего текста целиком, а вероятности авторства\n",
        "#  блоков на его основе, сделанные с помощью функции shift_window\n",
        "recognition_predict = model.predict(recognition_bag_of_words)\n",
        "print('Предсказания сети для каждого блока текста:\\n', recognition_predict)\n",
        "\n",
        "print()\n",
        "\n",
        "# Чтобы определить номер автора текста, нужно для каждого блока найти наиболее \n",
        "# вероятного автора, то есть нужно найти позицию, на которой стоит\n",
        "# максимальное значение вероятности\n",
        "recognition_predict = np.argmax(recognition_predict, axis=1)\n",
        "print('Номера автора для каждого блока текста:\\n', recognition_predict)\n",
        "\n",
        "print()\n",
        "\n",
        "# Находим вероятности принадлежности текста разным авторам\n",
        "probability = [0] * len(authors)\n",
        "for i in range(len(probability)):\n",
        "  probability[i] = (recognition_predict == i).sum()/len(recognition_predict)\n",
        "print('Вероятности принадлежности текста разным авторам:\\n', probability)\n",
        "\n",
        "print()\n",
        "\n",
        "# И в конце выводим информацию о наиболее вероятном авторе текста\n",
        "recognized_author = np.argmax(probability)\n",
        "print('Текст написан автором', authors[recognized_author], 'с вероятностью', probability[recognized_author])"
      ]
    }
  ],
  "metadata": {
    "colab": {
      "collapsed_sections": [],
      "name": "authorship_identification",
      "provenance": []
    },
    "kernelspec": {
      "display_name": "Python 3",
      "name": "python3"
    },
    "language_info": {
      "name": "python"
    }
  },
  "nbformat": 4,
  "nbformat_minor": 0
}
